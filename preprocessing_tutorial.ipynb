{
 "cells": [
  {
   "cell_type": "markdown",
   "metadata": {},
   "source": [
    "torchtext==0.6 사용"
   ]
  },
  {
   "cell_type": "code",
   "execution_count": 29,
   "metadata": {},
   "outputs": [],
   "source": [
    "from torchtext.data import Field, TabularDataset, BucketIterator\n",
    "import torch\n",
    "from pathlib import Path\n",
    "import pandas as pd"
   ]
  },
  {
   "cell_type": "code",
   "execution_count": 30,
   "metadata": {},
   "outputs": [],
   "source": [
    "dataset_dir = Path('./data')\n",
    "train_data_file = 'train_data.csv'\n",
    "valid_data_file = 'valid_data.csv'\n",
    "test_data_file = 'test_data.csv'\n",
    "\n",
    "device = torch.device('cuda') if torch.cuda.is_available() else torch.device('cpu')"
   ]
  },
  {
   "cell_type": "code",
   "execution_count": 19,
   "metadata": {},
   "outputs": [
    {
     "data": {
      "text/html": [
       "<div>\n",
       "<style scoped>\n",
       "    .dataframe tbody tr th:only-of-type {\n",
       "        vertical-align: middle;\n",
       "    }\n",
       "\n",
       "    .dataframe tbody tr th {\n",
       "        vertical-align: top;\n",
       "    }\n",
       "\n",
       "    .dataframe thead th {\n",
       "        text-align: right;\n",
       "    }\n",
       "</style>\n",
       "<table border=\"1\" class=\"dataframe\">\n",
       "  <thead>\n",
       "    <tr style=\"text-align: right;\">\n",
       "      <th></th>\n",
       "      <th>Sentence</th>\n",
       "      <th>Label</th>\n",
       "    </tr>\n",
       "  </thead>\n",
       "  <tbody>\n",
       "    <tr>\n",
       "      <th>0</th>\n",
       "      <td>I need to see Gina.</td>\n",
       "      <td>1</td>\n",
       "    </tr>\n",
       "    <tr>\n",
       "      <th>1</th>\n",
       "      <td>Well, she’s actually not here.</td>\n",
       "      <td>1</td>\n",
       "    </tr>\n",
       "    <tr>\n",
       "      <th>2</th>\n",
       "      <td>Well I know she is, cos I saw her come in and ...</td>\n",
       "      <td>0</td>\n",
       "    </tr>\n",
       "  </tbody>\n",
       "</table>\n",
       "</div>"
      ],
      "text/plain": [
       "                                            Sentence  Label\n",
       "0                                I need to see Gina.      1\n",
       "1                     Well, she’s actually not here.      1\n",
       "2  Well I know she is, cos I saw her come in and ...      0"
      ]
     },
     "execution_count": 19,
     "metadata": {},
     "output_type": "execute_result"
    }
   ],
   "source": [
    "pd.read_csv(dataset_dir/train_data_file).head()"
   ]
  },
  {
   "cell_type": "markdown",
   "metadata": {},
   "source": [
    "tokenize 정의"
   ]
  },
  {
   "cell_type": "code",
   "execution_count": 3,
   "metadata": {},
   "outputs": [],
   "source": [
    "simple_tokenize = lambda x:x.split()"
   ]
  },
  {
   "cell_type": "markdown",
   "metadata": {},
   "source": [
    "Field - 이루어져야 할 전처리를 지정한다"
   ]
  },
  {
   "cell_type": "code",
   "execution_count": 5,
   "metadata": {},
   "outputs": [],
   "source": [
    "TEXT = Field( #Sentence 열에 적용할 Field\n",
    "    sequential = True, #문장이 들어오면 True, 한 단어면 False\n",
    "    use_vocab = True, #단어장을 만들 것이면 True\n",
    "    tokenize = simple_tokenize, #tokenize 전달\n",
    "    lower = True, #모두 소문자로\n",
    "    batch_first = True #배치 차원이 먼저오도록\n",
    ")\n",
    "\n",
    "\n",
    "LABEL = Field( #Label 열에 적용할 Field\n",
    "    sequential = False, #문장이 아니므로\n",
    "    use_vocab = False, #단어장 필요 없음\n",
    "    batch_first = True #배치 차원이 먼저오도록\n",
    ")"
   ]
  },
  {
   "cell_type": "markdown",
   "metadata": {},
   "source": [
    "fields 딕셔너리로 묵는다"
   ]
  },
  {
   "cell_type": "code",
   "execution_count": 6,
   "metadata": {},
   "outputs": [],
   "source": [
    "#방법 1\n",
    "fileds = {\n",
    "    'Sentence' : ('text',TEXT), #원래 데이터파일에 저장된 열이름 : (내가 사용할 키, Field)\n",
    "    'Label' : ('label', LABEL)\n",
    "    }\n",
    "\n",
    "#방법 2\n",
    "fields = [('text', TEXT), ('label',LABEL)] #원래 데이터파일에 저장된 순서대로 대응되는 튜플 나열"
   ]
  },
  {
   "cell_type": "markdown",
   "metadata": {},
   "source": [
    "TabularDataset - 데이터를 불러온다"
   ]
  },
  {
   "cell_type": "code",
   "execution_count": 22,
   "metadata": {},
   "outputs": [],
   "source": [
    "train_data, valid_data, test_data =\\\n",
    "    TabularDataset.splits(\n",
    "        path = dataset_dir,\n",
    "        train = train_data_file,\n",
    "        validation = valid_data_file,\n",
    "        test = test_data_file,\n",
    "        format = 'csv',\n",
    "        fields = fields, #만들어둔 fields를 전달\n",
    "        skip_header = 1 #첫번째 행에는 column명이 들어가므로 skip\n",
    "    )"
   ]
  },
  {
   "cell_type": "code",
   "execution_count": 26,
   "metadata": {},
   "outputs": [
    {
     "data": {
      "text/plain": [
       "{'text': ['i', 'need', 'to', 'see', 'gina.'], 'label': '1'}"
      ]
     },
     "execution_count": 26,
     "metadata": {},
     "output_type": "execute_result"
    }
   ],
   "source": [
    "train_data[0].__dict__"
   ]
  },
  {
   "cell_type": "markdown",
   "metadata": {},
   "source": [
    "vocab만들기 - 단어를 숫자화하는 표"
   ]
  },
  {
   "cell_type": "code",
   "execution_count": 27,
   "metadata": {},
   "outputs": [],
   "source": [
    "TEXT.build_vocab(train_data, min_freq = 2) #2번이상 나온 단어만 사용"
   ]
  },
  {
   "cell_type": "markdown",
   "metadata": {},
   "source": [
    "BuckeIterator - iterator만들기(Data Loader)"
   ]
  },
  {
   "cell_type": "code",
   "execution_count": 39,
   "metadata": {},
   "outputs": [],
   "source": [
    "train_iterator, valid_iterator, test_iterator =\\\n",
    "    BucketIterator.splits(\n",
    "        (train_data, valid_data, test_data),\n",
    "        batch_size = 2,\n",
    "        device = device,\n",
    "        sort = False #정렬 하지 않을 것\n",
    "    )"
   ]
  },
  {
   "cell_type": "code",
   "execution_count": 54,
   "metadata": {},
   "outputs": [
    {
     "name": "stdout",
     "output_type": "stream",
     "text": [
      "tensor([[0, 2, 0, 3, 0, 0, 2, 0, 0, 0, 0, 0, 3, 0, 0, 0, 0],\n",
      "        [2, 0, 0, 0, 0, 1, 1, 1, 1, 1, 1, 1, 1, 1, 1, 1, 1]])\n",
      "tensor([0, 1])\n"
     ]
    }
   ],
   "source": [
    "for batch in train_iterator:\n",
    "    print(batch.text)\n",
    "    print(batch.label)\n",
    "    break"
   ]
  }
 ],
 "metadata": {
  "kernelspec": {
   "display_name": "base",
   "language": "python",
   "name": "python3"
  },
  "language_info": {
   "codemirror_mode": {
    "name": "ipython",
    "version": 3
   },
   "file_extension": ".py",
   "mimetype": "text/x-python",
   "name": "python",
   "nbconvert_exporter": "python",
   "pygments_lexer": "ipython3",
   "version": "3.11.7"
  }
 },
 "nbformat": 4,
 "nbformat_minor": 2
}
